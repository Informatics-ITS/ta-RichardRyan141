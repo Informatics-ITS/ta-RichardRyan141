{
 "cells": [
  {
   "cell_type": "code",
   "execution_count": null,
   "id": "3711b66e",
   "metadata": {
    "vscode": {
     "languageId": "plaintext"
    }
   },
   "outputs": [],
   "source": [
    "from monai.transforms import (\n",
    "\tEnsureChannelFirstd,\n",
    "\tLoadImaged,\n",
    "\tOrientationd,\n",
    "\tSpacingd,\n",
    "\tSaveImaged,\n",
    "\tResized,\n",
    ")\n",
    "from monai.data import MetaTensor\n",
    "\n",
    "import numpy as np\n",
    "import os\n",
    "import nibabel as nib"
   ]
  },
  {
   "cell_type": "markdown",
   "id": "48ae7826",
   "metadata": {},
   "source": [
    "# 1) Ubah variabel global berikut sesuai struktur direktori dan keinginan"
   ]
  },
  {
   "cell_type": "code",
   "execution_count": null,
   "id": "bddcdb38",
   "metadata": {
    "vscode": {
     "languageId": "plaintext"
    }
   },
   "outputs": [],
   "source": [
    "# Root directory data\n",
    "data_dir = \"raw_data\"\n",
    "\n",
    "# Root directory output\n",
    "output_dir = \"resized_data\"\n",
    "\n",
    "# Dimensi citra tujuan\n",
    "new_dimension = (256,256,256)"
   ]
  },
  {
   "cell_type": "markdown",
   "id": "17a8753d",
   "metadata": {},
   "source": [
    "# 2) Jalankan code berikut"
   ]
  },
  {
   "cell_type": "code",
   "execution_count": null,
   "id": "0ad9975c",
   "metadata": {
    "vscode": {
     "languageId": "plaintext"
    }
   },
   "outputs": [],
   "source": [
    "def get_affine(original_affine, original_shape, new_dimension):\n",
    "\toriginal_spacing = np.diag(original_affine)[:3]\n",
    "\tnew_spacing = (original_spacing[0] * original_shape[0] / new_dimension[0],\n",
    "\t\t\t\t\toriginal_spacing[1] * original_shape[1] / new_dimension[1],\n",
    "\t\t\t\t\toriginal_spacing[2] * original_shape[2] / new_dimension[2])\n",
    "\tnew_affine = np.copy(original_affine)\n",
    "\tnew_affine[0, 0] = new_spacing[0]\n",
    "\tnew_affine[1, 1] = new_spacing[1]\n",
    "\tnew_affine[2, 2] = new_spacing[2]\n",
    "\treturn new_affine\n",
    "\n",
    "def get_new_spacing(img_path, new_dimension=[256,256,256]):\n",
    "\tnifti_file = nib.load(img_path)\n",
    "\taffine = nifti_file.affine\n",
    "\tvoxel_spacing = nib.affines.voxel_sizes(affine)\n",
    "\timage_dimensions = list(nifti_file.get_fdata().shape)\n",
    "\ttotal_size = [voxel_spacing[0] * image_dimensions[0], voxel_spacing[1] * image_dimensions[1], voxel_spacing[2] * image_dimensions[2]]\n",
    "\tnew_spacing = (total_size[0] / new_dimension[0], total_size[1] / new_dimension[1], total_size[2] / new_dimension[2])\n",
    "\treturn new_spacing"
   ]
  },
  {
   "cell_type": "code",
   "execution_count": null,
   "id": "66e67079",
   "metadata": {
    "vscode": {
     "languageId": "plaintext"
    }
   },
   "outputs": [],
   "source": [
    "os.makedirs(output_dir, exist_ok=True)"
   ]
  },
  {
   "cell_type": "code",
   "execution_count": null,
   "id": "4ab0f0ba",
   "metadata": {
    "vscode": {
     "languageId": "plaintext"
    }
   },
   "outputs": [],
   "source": [
    "loader = LoadImaged(keys=(\"label\"), image_only=False)\n",
    "ensure_channel_first = EnsureChannelFirstd(keys=[\"label\"])\n",
    "orientation = Orientationd(keys=[\"label\"], axcodes=\"PLI\")\n",
    "resize = Resized(keys=[\"label\"], spatial_size=new_dimension, mode=\"nearest-exact\")\n",
    "\n",
    "for dir in os.listdir(data_dir):\n",
    "\tif os.path.exists(os.path.join(output_dir, dir)):\n",
    "\t\tcontinue\n",
    "\tdir_path = os.path.join(data_dir, dir)\n",
    "\tlabel_path = os.path.join(dir_path, \"aneurysms.nii.gz\")\n",
    "\ttrain_dict = {'label': label_path}\n",
    "\n",
    "\tspacing = Spacingd(keys=[\"label\"], pixdim=get_new_spacing(label_path, list(new_dimension)), mode=(\"nearest\"))\n",
    "\n",
    "\tdata_dict = loader(train_dict)\n",
    "\tdata_dict = ensure_channel_first(data_dict)\n",
    "\tdata_dict = orientation(data_dict)\n",
    "\tdata_dict = spacing(data_dict)\n",
    "\tdata_dict = resize(data_dict)\n",
    "\n",
    "\tos.makedirs(os.path.join(output_dir, dir), exist_ok=True)\n",
    "\tsaver = SaveImaged(keys=[\"label\"], output_dir=os.path.join(output_dir, dir), output_postfix=\"\", separate_folder=False)\n",
    "\toutput_label_path = f\"{dir}_aneurysms.nii\"\n",
    "\tdata_dict[\"label\"].meta[\"filename_or_obj\"] = output_label_path\n",
    "\tsaver(data_dict)"
   ]
  },
  {
   "cell_type": "code",
   "execution_count": null,
   "id": "0ee85c1c",
   "metadata": {
    "vscode": {
     "languageId": "plaintext"
    }
   },
   "outputs": [],
   "source": [
    "loader = LoadImaged(keys=(\"image\"), image_only=False)\n",
    "ensure_channel_first = EnsureChannelFirstd(keys=[\"image\"])\n",
    "orientation = Orientationd(keys=[\"image\"], axcodes=\"PLI\")\n",
    "resize = Resized(keys=[\"image\"], spatial_size=new_dimension, mode=\"trilinear\")\n",
    "\n",
    "for dir in os.listdir(data_dir):\n",
    "\tdir_path = os.path.join(data_dir, dir)\n",
    "\timg2_path = os.path.join(dir_path, \"pre\", \"TOF.nii.gz\")\n",
    "\ttrain_dict = {'image': img2_path}\n",
    "\n",
    "\tspacing = Spacingd(keys=[\"image\"], pixdim=get_new_spacing(img2_path, list(new_dimension)), mode=(\"bilinear\"))\n",
    "\n",
    "\tdata_dict = loader(train_dict)\n",
    "\tdata_dict = ensure_channel_first(data_dict)\n",
    "\tdata_dict = orientation(data_dict)\n",
    "\tdata_dict = spacing(data_dict)\n",
    "\tdata_dict = resize(data_dict)\n",
    "\n",
    "\timg1_new_affine = get_affine(data_dict['image'].affine, data_dict['image'].shape[1:], new_dimension)\n",
    "\tdata_dict['image'].affine = img1_new_affine\n",
    "\tdata_dict['image'].affine = img1_new_affine\n",
    "\n",
    "\tos.makedirs(os.path.join(output_dir, dir), exist_ok=True)\n",
    "\tsaver = SaveImaged(keys=[\"image\"], output_dir=os.path.join(output_dir, dir), output_postfix=\"\", separate_folder=False)\n",
    "\toutput_image1_path = f\"{dir}_TOF-pre.nii\"\n",
    "\tdata_dict[\"image\"].meta[\"filename_or_obj\"] = output_image1_path\n",
    "\tsaver(data_dict)"
   ]
  },
  {
   "cell_type": "code",
   "execution_count": null,
   "id": "d04373a8",
   "metadata": {
    "vscode": {
     "languageId": "plaintext"
    }
   },
   "outputs": [],
   "source": [
    "loader = LoadImaged(keys=[\"image\"], image_only=False)\n",
    "ensure_channel_first = EnsureChannelFirstd(keys=[\"image\"])\n",
    "orientation = Orientationd(keys=[\"image\"], axcodes=\"PLI\")\n",
    "resize = Resized(keys=[\"image\"], spatial_size=new_dimension, mode=\"trilinear\")\n",
    "\n",
    "for dir_name in os.listdir(data_dir):\n",
    "\tdir_path = os.path.join(data_dir, dir_name)\n",
    "\timg2_path = os.path.join(dir_path, \"pre\", \"struct_aligned.nii.gz\")\n",
    "\tif not os.path.exists(img2_path):\n",
    "\t\tprint(f\"Skipping {dir_name}, file not found.\")\n",
    "\t\tcontinue\n",
    "\n",
    "\ttrain_dict = {'image': img2_path}\n",
    "\tspacing = Spacingd(keys=[\"image\"], pixdim=get_new_spacing(img2_path, list(new_dimension)), mode=\"bilinear\")\n",
    "\n",
    "\tdata_dict = loader(train_dict)\n",
    "\tdata_dict = ensure_channel_first(data_dict)\n",
    "\tdata_dict = orientation(data_dict)\n",
    "\tdata_dict = spacing(data_dict)\n",
    "\tdata_dict = resize(data_dict)\n",
    "\n",
    "\timg = data_dict['image']\n",
    "\timg_new_affine = get_affine(img.affine, img.shape[1:], new_dimension)\n",
    "\timg.affine = img_new_affine\n",
    "\n",
    "\timg_data = img[0] if isinstance(img, MetaTensor) else img\n",
    "\tdata = img_data.numpy()\n",
    "\tmin_data, max_data = np.min(data), np.max(data)\n",
    "\tnormalized_data = (data - min_data) / (max_data - min_data + 1e-5) * 65535\n",
    "\tuint16_data = np.round(normalized_data).astype(np.uint16)\n",
    "\n",
    "\toriginal_nib = nib.load(img2_path)\n",
    "\tfinal_nifti = nib.Nifti1Image(uint16_data, img.affine, original_nib.header)\n",
    "\tfinal_nifti.header['datatype'] = 512\n",
    "\tfinal_nifti.header['bitpix'] = 16\n",
    "\n",
    "\toutput_subject_dir = os.path.join(output_dir, dir_name)\n",
    "\tos.makedirs(output_subject_dir, exist_ok=True)\n",
    "\tfinal_path = os.path.join(output_subject_dir, f\"{dir}_struct_init.nii\")\n",
    "\tnib.save(final_nifti, final_path)\n",
    "\n",
    "\tprint(f\"Saved: {final_path}\")\n",
    "\tbreak\n"
   ]
  },
  {
   "cell_type": "markdown",
   "id": "7ad019bc",
   "metadata": {},
   "source": [
    "# 3) Struktur akhir directory data resize"
   ]
  },
  {
   "cell_type": "markdown",
   "id": "fea0695a",
   "metadata": {},
   "source": [
    "resized_data/  \n",
    "|-- 10001/  \n",
    "|&nbsp;&nbsp;&nbsp;&nbsp;|-- 10001_aneurysms.nii  \n",
    "|&nbsp;&nbsp;&nbsp;&nbsp;|-- 10001_TOF-pre.nii  \n",
    "|&nbsp;&nbsp;&nbsp;&nbsp;|-- 10001_struct_init.nii  \n",
    "|-- 10002/  \n",
    "|&nbsp;&nbsp;&nbsp;&nbsp;|-- 10002_aneurysms.nii  \n",
    "|&nbsp;&nbsp;&nbsp;&nbsp;|-- 10002_TOF-pre.nii  \n",
    "|&nbsp;&nbsp;&nbsp;&nbsp;|-- 10002_struct_init.nii  \n",
    "|-- 10003/  \n",
    "|&nbsp;&nbsp;&nbsp;&nbsp;|-- 10003_aneurysms.nii  \n",
    "|&nbsp;&nbsp;&nbsp;&nbsp;|-- 10003_TOF-pre.nii  \n",
    "|&nbsp;&nbsp;&nbsp;&nbsp;|-- 10003_struct_init.nii  \n",
    "..."
   ]
  }
 ],
 "metadata": {
  "language_info": {
   "name": "python"
  }
 },
 "nbformat": 4,
 "nbformat_minor": 5
}
