{
 "cells": [
  {
   "cell_type": "code",
   "execution_count": null,
   "id": "4e6b339a",
   "metadata": {
    "vscode": {
     "languageId": "plaintext"
    }
   },
   "outputs": [],
   "source": [
    "import os\n",
    "import numpy as np\n",
    "from monai.transforms import (\n",
    "    LoadImaged,\n",
    "    Rotated,\n",
    "    SaveImaged,\n",
    "    EnsureChannelFirstd,\n",
    ")\n",
    "from scipy.optimize import fsolve\n",
    "import pandas as pd\n",
    "from tqdm import tqdm"
   ]
  },
  {
   "cell_type": "markdown",
   "id": "6b3d0e97",
   "metadata": {},
   "source": [
    "## 1) Duplikasikan directory data resize\n",
    "## 2) Jalankan program acpcdetect dari NITRC (https://www.nitrc.org/projects/art) pada setiap directory kasus data \n",
    "\n",
    "#### Struktur directory hasil acpcdetect kurang lebih akan seperti ini  \n",
    "acpcdetect-data/  \n",
    "|-- 10001/  \n",
    "|&nbsp;&nbsp;&nbsp;&nbsp;|-- 10001_struct_init.nii.gz  \n",
    "|&nbsp;&nbsp;&nbsp;&nbsp;|-- 10001_struct_init_ACPC.txt  \n",
    "|&nbsp;&nbsp;&nbsp;&nbsp;|-- (data-data lainnya)  \n",
    "|-- 10002/  \n",
    "|&nbsp;&nbsp;&nbsp;&nbsp;|-- 10002_struct_init.nii.gz  \n",
    "|&nbsp;&nbsp;&nbsp;&nbsp;|-- 10002_struct_init_ACPC.txt  \n",
    "|&nbsp;&nbsp;&nbsp;&nbsp;|-- (data-data lainnya)  \n",
    "|-- 10003/  \n",
    "|&nbsp;&nbsp;&nbsp;&nbsp;|-- 10003_struct_init.nii.gz  \n",
    "|&nbsp;&nbsp;&nbsp;&nbsp;|-- 10003_struct_init_ACPC.txt  \n",
    "|&nbsp;&nbsp;&nbsp;&nbsp;|-- (data-data lainnya)  \n",
    "...\n",
    "\n",
    "#### Contoh  hasil deteksi (10001_struct_init_ACPC.txt)  \n",
    "Input volume: 10001_struct_init.nii\n",
    "\n",
    "Estimated mid-sagittal plane: (-0.1425441x) + (0.9897766y) + (-0.0048599z) =  4.11859 (mm)  \n",
    "-0.1425441 0.9897766 -0.0048599  4.11859\n",
    "\n",
    "AC-PC distance = 21.587 mm\n",
    "\n",
    "VSPS (i,j,k) voxel location:\n",
    "134.7 133.9 164.1\n",
    "\n",
    "AC (i,j,k) voxel location:\n",
    "112.2 130.6 138.5\n",
    "\n",
    "PC (i,j,k) voxel location:\n",
    "139.0 134.5 123.7\n",
    "\n",
    "\n",
    "## 3) Jalankan kode berikut"
   ]
  },
  {
   "cell_type": "code",
   "execution_count": null,
   "id": "bb295e6a",
   "metadata": {
    "vscode": {
     "languageId": "plaintext"
    }
   },
   "outputs": [],
   "source": [
    "# Root directory data\n",
    "data_dir = \"acpcdetect_data\"\n",
    "\n",
    "# Root directory output\n",
    "output_dir = \"reoriented_data\""
   ]
  },
  {
   "cell_type": "code",
   "execution_count": null,
   "id": "0ae2dc9c",
   "metadata": {
    "vscode": {
     "languageId": "plaintext"
    }
   },
   "outputs": [],
   "source": [
    "def calc_X_rot(theta, y_PC, z_PC, z_AC):\n",
    "\treturn y_PC * np.sin(theta) + z_PC * np.cos(theta) - z_AC\n",
    "\n",
    "def calc_Z_rot(theta, x_PC, x_AC, y2):\n",
    "\treturn x_PC * np.cos(theta) - y2*np.sin(theta) - x_AC\n",
    "\n",
    "def read_line(line):\n",
    "\tx = line[:5].replace(' ', '0').replace('-', '6666').replace('nan', '9999')\n",
    "\ty = line[6:11].replace(' ', '0').replace('-', '6666').replace('nan', '9999')\n",
    "\tz = line[12:17].replace(' ', '0').replace('-', '6666').replace('nan', '9999')\n",
    "\treturn float(x), float(y), float(z)"
   ]
  },
  {
   "cell_type": "code",
   "execution_count": null,
   "id": "5b21d315",
   "metadata": {
    "vscode": {
     "languageId": "plaintext"
    }
   },
   "outputs": [],
   "source": [
    "invalid_count = 0\n",
    "for dir in os.listdir(\"Rotated-ACPCdetect\"):\n",
    "\toutput_dir = os.path.join(\"Rotated-ACPCDetect-Final\", dir)\n",
    "\ttxt_path = os.path.join(\"Rotated-ACPCdetect\", dir, \"struct_ACPC.txt\")\n",
    "\timg_path = os.path.join(\"Resized\", dir, f\"{dir}_TOF-pre.nii.gz\")\n",
    "\tlabel_path = os.path.join(\"Resized\", dir, f\"{dir}_aneurysms.nii.gz\")\n",
    "\n",
    "\twith open(txt_path, \"r\") as file:\n",
    "\t\tlines = file.readlines()\n",
    "\t\t\n",
    "\tx_AC, y_AC, z_AC = read_line(lines[11])\n",
    "\tx_PC, y_PC, z_PC = read_line(lines[14])\n",
    "\n",
    "\tif (not ((x_AC <= 256) and (y_AC <= 256) and (z_AC <= 256) and (x_PC <= 256) and (y_PC <= 256) and (z_PC <= 256))):\n",
    "\t\tprint(dir, \"Invalid\")\n",
    "\t\tinvalid_count += 1\n",
    "\t\tcontinue\n",
    "\n",
    "\tos.makedirs(output_dir, exist_ok=True)\n",
    "\t\t\n",
    "\ttheta = fsolve(calc_X_rot, 0, args=(y_PC, z_PC, z_AC))\n",
    "\tangle_X_deg = np.degrees(theta[0])\n",
    "\tangle_X_rad = np.radians(angle_X_deg)\n",
    "\n",
    "\ty2 = y_PC * np.cos(angle_X_rad) - z_PC * np.sin(angle_X_rad)\n",
    "\tz2 = y_PC * np.sin(angle_X_rad) + z_PC * np.cos(angle_X_rad)\n",
    "\n",
    "\tif (abs(z2-z_AC) > 0.0000001):\n",
    "\t\tangle_X_rad_alt = np.radians(360-angle_X_rad)\n",
    "\t\ty2_alt = y_PC * np.cos(angle_X_rad_alt) - z_PC * np.sin(angle_X_rad_alt)\n",
    "\t\tz2_alt = y_PC * np.sin(angle_X_rad_alt) + z_PC * np.cos(angle_X_rad_alt)\n",
    "\t\tif(abs(z2-z_AC) > abs(z2_alt-z_AC)):\n",
    "\t\t\ty2 = y2_alt\n",
    "\t\t\tz2 = z2_alt\n",
    "\t\t\tangle_X_rad = angle_X_rad_alt\n",
    "\n",
    "\ttheta = fsolve(calc_Z_rot, 0, args=(x_PC, x_AC, y2))\n",
    "\tangle_Z_deg = np.degrees(theta[0])\n",
    "\tangle_Z_rad = np.radians(angle_Z_deg)\n",
    "\n",
    "\tx3 = x_PC * np.cos(angle_Z_rad) - y2 * np.sin(angle_Z_rad)\n",
    "\ty3 = x_PC * np.sin(angle_Z_rad) + y2 * np.cos(angle_Z_rad)\n",
    "\n",
    "\tif (abs(x3-x_AC) > 0.0000001):\n",
    "\t\tangle_Z_rad_alt = np.radians(360-angle_Z_deg)\n",
    "\t\tx3_alt = x_PC * np.cos(angle_Z_rad_alt) - y2 * np.sin(angle_Z_rad_alt)\n",
    "\t\ty3_alt = x_PC * np.sin(angle_Z_rad_alt) + y2 * np.cos(angle_Z_rad_alt)\n",
    "\t\tif(abs(x3-x_AC) > abs(x3_alt-x_AC)):\n",
    "\t\t\tx3 = x3_alt\n",
    "\t\t\ty3 = y3_alt\n",
    "\t\t\tangle_Z_rad = angle_Z_rad_alt\n",
    "\t\n",
    "\tloader = LoadImaged(keys=(\"image\"), image_only=False)\n",
    "\trotate = Rotated(keys=(\"image\"), angle=(angle_X_rad, 0, angle_Z_rad))\n",
    "\tensure_channel_first = EnsureChannelFirstd(keys=[\"image\"])\n",
    "\tsaver = SaveImaged(keys=[\"image\"], output_dir=output_dir, output_postfix=\"\", separate_folder=False)\n",
    "\n",
    "\ttrain_dict = {'image': img_path}\n",
    "\tlabel_dict = {'image': label_path}\n",
    "\n",
    "\tdata_dict = loader(train_dict)\n",
    "\tdata_dict = ensure_channel_first(data_dict)\n",
    "\tdata_dict = rotate(data_dict)\n",
    "\toutput_image_path = f\"{dir}_TOF-pre.nii.gz\"\n",
    "\tdata_dict[\"image\"].meta[\"filename_or_obj\"] = output_image_path\n",
    "\tsaver(data_dict)\n",
    "\n",
    "\tdata_dict = loader(label_dict)\n",
    "\tdata_dict = ensure_channel_first(data_dict)\n",
    "\tdata_dict = rotate(data_dict)\n",
    "\toutput_image_path = f\"{dir}_aneurysms.nii.gz\"\n",
    "\tdata_dict[\"image\"].meta[\"filename_or_obj\"] = output_image_path\n",
    "\tsaver(data_dict)"
   ]
  },
  {
   "cell_type": "markdown",
   "id": "be7de83e",
   "metadata": {},
   "source": [
    "Struktur akhir data reorientasi :  \n",
    "\n",
    "reoriented_data/  \n",
    "|-- 10001/  \n",
    "|&nbsp;&nbsp;&nbsp;&nbsp;|-- 10001_aneurysms.nii  \n",
    "|&nbsp;&nbsp;&nbsp;&nbsp;|-- 10001_TOF-pre.nii  \n",
    "|-- 10002/  \n",
    "|&nbsp;&nbsp;&nbsp;&nbsp;|-- 10002_aneurysms.nii  \n",
    "|&nbsp;&nbsp;&nbsp;&nbsp;|-- 10002_TOF-pre.nii  \n",
    "|-- 10003/  \n",
    "|&nbsp;&nbsp;&nbsp;&nbsp;|-- 10003_aneurysms.nii  \n",
    "|&nbsp;&nbsp;&nbsp;&nbsp;|-- 10003_TOF-pre.nii  \n",
    "..."
   ]
  }
 ],
 "metadata": {
  "language_info": {
   "name": "python"
  }
 },
 "nbformat": 4,
 "nbformat_minor": 5
}
