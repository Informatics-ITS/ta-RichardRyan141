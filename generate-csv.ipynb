{
 "cells": [
  {
   "cell_type": "code",
   "execution_count": null,
   "id": "9de59106",
   "metadata": {
    "vscode": {
     "languageId": "plaintext"
    }
   },
   "outputs": [],
   "source": [
    "import numpy as np\n",
    "import os\n",
    "import csv\n",
    "import math"
   ]
  },
  {
   "cell_type": "code",
   "execution_count": null,
   "id": "b04eaf11",
   "metadata": {
    "vscode": {
     "languageId": "plaintext"
    }
   },
   "outputs": [],
   "source": [
    "# Path ke direktori root data reorientasi (jangan buat lagi untuk resize)\n",
    "data_dir = \"resized_data\"\n",
    "\n",
    "# Ratio jumlah data training\n",
    "train_split = 0.8\n",
    "\n",
    "# Direktori CSV\n",
    "csv_dir = \"CSV\""
   ]
  },
  {
   "cell_type": "code",
   "execution_count": null,
   "id": "986d36c7",
   "metadata": {
    "vscode": {
     "languageId": "plaintext"
    }
   },
   "outputs": [],
   "source": [
    "case_ids = os.listdir(resized_data)\n",
    "np.random.shuffle(case_ids)\n",
    "\n",
    "train_count = math.ceil(len(case_ids) * train_split)\n",
    "train_list_all = case_ids[:train_count]\n",
    "\n",
    "val_list_all = avail_dirs[train_count:]\n",
    "\n",
    "os.makedirs(csv_dir, exist_ok=True)\n",
    "\n",
    "data_dictlist = []\n",
    "fields = [\"TOF_pre\", \"labels\", \"case_id\"] \n",
    "\n",
    "for dir in train_list_all:    \n",
    "    data = {\"TOF_pre\": os.path.join(data_dir, dir, f\"{dir}_TOF-pre.nii\"),\n",
    "            \"labels\": os.path.join(data_dir, dir, f\"{dir}_aneurysms.nii\",\n",
    "            \"case_id\": dir)}\n",
    "    data_dictlist.append(data)\n",
    "\n",
    "with open(f'{csv_dir}/data_train.csv', 'w', newline='') as file: \n",
    "    writer = csv.DictWriter(file, fieldnames = fields)\n",
    "    \n",
    "    writer.writeheader()\n",
    "    writer.writerows(data_dictlist)\n",
    "\n",
    "\n",
    "\n",
    "data_dictlist = []\n",
    "fields = [\"TOF_pre\", \"labels\", \"case_id\"] \n",
    "\n",
    "for dir in val_list_all:\n",
    "    data = {\"TOF_pre\": os.path.join(data_dir, dir, f\"{dir}_TOF-pre.nii\"),\n",
    "            \"labels\": os.path.join(data_dir, dir, f\"{dir}_aneurysms.nii\",\n",
    "            \"case_id\"; dir)}\n",
    "    data_dictlist.append(data)\n",
    "\n",
    "with open(f'{csv_dir}/data_val.csv', 'w', newline='') as file: \n",
    "    writer = csv.DictWriter(file, fieldnames = fields)\n",
    "    \n",
    "    writer.writeheader()\n",
    "    writer.writerows(data_dictlist)\n",
    "    "
   ]
  }
 ],
 "metadata": {
  "language_info": {
   "name": "python"
  }
 },
 "nbformat": 4,
 "nbformat_minor": 5
}
